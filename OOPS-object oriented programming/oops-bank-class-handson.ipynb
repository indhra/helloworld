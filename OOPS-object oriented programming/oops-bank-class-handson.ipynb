{
 "cells": [
  {
   "cell_type": "markdown",
   "metadata": {},
   "source": [
    "OOP also exists in other programming languages and is often described to center around the four pillars, or four tenants of OOP:\n",
    "\n",
    "Encapsulation allows you to bundle data (attributes) and behaviors (methods) within a class to create a cohesive unit. By defining methods to control access to attributes and its modification, encapsulation helps maintain data integrity and promotes modular, secure code.\n",
    "\n",
    "Inheritance enables the creation of hierarchical relationships between classes, allowing a subclass to inherit attributes and methods from a parent class. This promotes code reuse and reduces duplication.\n",
    "\n",
    "Abstraction focuses on hiding implementation details and exposing only the essential functionality of an object. By enforcing a consistent interface, abstraction simplifies interactions with objects, allowing developers to focus on what an object does rather than how it achieves its functionality.\n",
    "\n",
    "Polymorphism allows you to treat objects of different types as instances of the same base type, as long as they implement a common interface or behavior. Python’s duck typing make it especially suited for polymorphism, as it allows you to access attributes and methods on objects without needing to worry about their actual class.\n"
   ]
  },
  {
   "cell_type": "code",
   "execution_count": 1,
   "metadata": {
    "execution": {
     "iopub.execute_input": "2024-08-01T07:14:54.947154Z",
     "iopub.status.busy": "2024-08-01T07:14:54.946686Z",
     "iopub.status.idle": "2024-08-01T07:14:55.000030Z",
     "shell.execute_reply": "2024-08-01T07:14:54.998547Z",
     "shell.execute_reply.started": "2024-08-01T07:14:54.947106Z"
    },
    "trusted": true
   },
   "outputs": [],
   "source": [
    "# Required libraries\n",
    "import math"
   ]
  },
  {
   "cell_type": "markdown",
   "metadata": {},
   "source": [
    "# Class - Bank"
   ]
  },
  {
   "cell_type": "code",
   "execution_count": 2,
   "metadata": {
    "execution": {
     "iopub.execute_input": "2024-08-01T07:14:55.004249Z",
     "iopub.status.busy": "2024-08-01T07:14:55.003837Z",
     "iopub.status.idle": "2024-08-01T07:14:55.017140Z",
     "shell.execute_reply": "2024-08-01T07:14:55.014975Z",
     "shell.execute_reply.started": "2024-08-01T07:14:55.004216Z"
    },
    "trusted": true
   },
   "outputs": [],
   "source": [
    "class BankAccount():\n",
    "    def __init__(self, owner, balance=0) -> None:\n",
    "        self.owner = owner\n",
    "        self.balance = balance\n",
    "        print(f'welcome {self.owner}') \n",
    "        \n",
    "    def deposit(self, amount):\n",
    "        self.balance += amount \n",
    "        print(f'{amount} is deposited.  new balance is {self.balance}')\n",
    "        \n",
    "    def withdraw(self,  amount):\n",
    "        if amount > self.balance:\n",
    "            print('Insufficient funds!!!!')\n",
    "        else:\n",
    "            self.balance -=amount \n",
    "            print(f'{amount} is withdrawn. new  balance is {self.balance}')\n",
    "            \n",
    "    def get_balance(self):\n",
    "        return self.balance "
   ]
  },
  {
   "cell_type": "code",
   "execution_count": 3,
   "metadata": {
    "execution": {
     "iopub.execute_input": "2024-08-01T07:14:55.021628Z",
     "iopub.status.busy": "2024-08-01T07:14:55.019588Z",
     "iopub.status.idle": "2024-08-01T07:14:55.040770Z",
     "shell.execute_reply": "2024-08-01T07:14:55.038974Z",
     "shell.execute_reply.started": "2024-08-01T07:14:55.021551Z"
    },
    "trusted": true
   },
   "outputs": [
    {
     "name": "stdout",
     "output_type": "stream",
     "text": [
      "welcome indhra\n",
      "300 is deposited.  new balance is 5300\n",
      "5000 is withdrawn. new  balance is 300\n"
     ]
    },
    {
     "data": {
      "text/plain": [
       "300"
      ]
     },
     "execution_count": 3,
     "metadata": {},
     "output_type": "execute_result"
    }
   ],
   "source": [
    "hdfc = BankAccount('indhra', balance=5000)\n",
    "hdfc.deposit(300)\n",
    "hdfc.withdraw(5000)\n",
    "hdfc.get_balance()"
   ]
  },
  {
   "cell_type": "markdown",
   "metadata": {},
   "source": [
    "# Inheritance\n",
    "inheritance is a fundamental concept in OOPS that allows a class to inherit attributes and methods from another class.  This lesson covers single inheritance and multiple inheritance, demonstrating how to create and use them in python."
   ]
  },
  {
   "cell_type": "code",
   "execution_count": 4,
   "metadata": {
    "execution": {
     "iopub.execute_input": "2024-08-01T07:14:55.043912Z",
     "iopub.status.busy": "2024-08-01T07:14:55.043357Z",
     "iopub.status.idle": "2024-08-01T07:14:55.054149Z",
     "shell.execute_reply": "2024-08-01T07:14:55.052585Z",
     "shell.execute_reply.started": "2024-08-01T07:14:55.043865Z"
    },
    "trusted": true
   },
   "outputs": [],
   "source": [
    "## inheritance -- single inheritance\n",
    "## parent class\n",
    "\n",
    "class Car:\n",
    "    def __init__(self, windows, doors, enginetype):\n",
    "        self.windows=windows\n",
    "        self.doors=doors\n",
    "        self.enginetype=enginetype\n",
    "        \n",
    "    def drive(self):\n",
    "        print(f'the person will drive the {self.enginetype} car')\n",
    "        "
   ]
  },
  {
   "cell_type": "code",
   "execution_count": 5,
   "metadata": {
    "execution": {
     "iopub.execute_input": "2024-08-01T07:14:55.059356Z",
     "iopub.status.busy": "2024-08-01T07:14:55.058812Z",
     "iopub.status.idle": "2024-08-01T07:14:55.070352Z",
     "shell.execute_reply": "2024-08-01T07:14:55.068769Z",
     "shell.execute_reply.started": "2024-08-01T07:14:55.059304Z"
    },
    "trusted": true
   },
   "outputs": [
    {
     "name": "stdout",
     "output_type": "stream",
     "text": [
      "the person will drive the petrol car\n"
     ]
    }
   ],
   "source": [
    "car1 = Car(4,5,'petrol')\n",
    "(car1.drive())"
   ]
  },
  {
   "cell_type": "code",
   "execution_count": 6,
   "metadata": {
    "execution": {
     "iopub.execute_input": "2024-08-01T07:14:55.072943Z",
     "iopub.status.busy": "2024-08-01T07:14:55.072408Z",
     "iopub.status.idle": "2024-08-01T07:14:55.086592Z",
     "shell.execute_reply": "2024-08-01T07:14:55.084729Z",
     "shell.execute_reply.started": "2024-08-01T07:14:55.072888Z"
    },
    "trusted": true
   },
   "outputs": [],
   "source": [
    "## Child class\n",
    "\n",
    "class Tesla(Car):\n",
    "    def __init__(self, windows, doors,enginetype,is_selfdriving):\n",
    "        super().__init__(windows,doors,enginetype)\n",
    "        self.is_selfdriving=is_selfdriving\n",
    "        \n",
    "    def selfdriving(self):\n",
    "        print(f'Tesla supports self driving: {self.is_selfdriving}') \n",
    "        "
   ]
  },
  {
   "cell_type": "code",
   "execution_count": 7,
   "metadata": {
    "execution": {
     "iopub.execute_input": "2024-08-01T07:14:55.088929Z",
     "iopub.status.busy": "2024-08-01T07:14:55.088439Z",
     "iopub.status.idle": "2024-08-01T07:14:55.102841Z",
     "shell.execute_reply": "2024-08-01T07:14:55.100648Z",
     "shell.execute_reply.started": "2024-08-01T07:14:55.088875Z"
    },
    "trusted": true
   },
   "outputs": [
    {
     "name": "stdout",
     "output_type": "stream",
     "text": [
      "Tesla supports self driving: True\n"
     ]
    }
   ],
   "source": [
    "tesla1 = Tesla(4,5,'electric',True)\n",
    "(tesla1.selfdriving())\n",
    "\n"
   ]
  },
  {
   "cell_type": "code",
   "execution_count": 8,
   "metadata": {
    "execution": {
     "iopub.execute_input": "2024-08-01T07:14:55.104782Z",
     "iopub.status.busy": "2024-08-01T07:14:55.104317Z",
     "iopub.status.idle": "2024-08-01T07:14:55.115264Z",
     "shell.execute_reply": "2024-08-01T07:14:55.113943Z",
     "shell.execute_reply.started": "2024-08-01T07:14:55.104748Z"
    },
    "trusted": true
   },
   "outputs": [
    {
     "name": "stdout",
     "output_type": "stream",
     "text": [
      "the person will drive the electric car\n"
     ]
    }
   ],
   "source": [
    "tesla1.drive()"
   ]
  },
  {
   "cell_type": "markdown",
   "metadata": {},
   "source": [
    "## multiple inheritance\n",
    "when a class inherits from more than one base class"
   ]
  },
  {
   "cell_type": "code",
   "execution_count": 9,
   "metadata": {
    "execution": {
     "iopub.execute_input": "2024-08-01T07:14:55.117552Z",
     "iopub.status.busy": "2024-08-01T07:14:55.117120Z",
     "iopub.status.idle": "2024-08-01T07:14:55.130761Z",
     "shell.execute_reply": "2024-08-01T07:14:55.129231Z",
     "shell.execute_reply.started": "2024-08-01T07:14:55.117504Z"
    },
    "trusted": true
   },
   "outputs": [],
   "source": [
    "## Base class 1 \n",
    "\n",
    "class Animal:\n",
    "    def __init__(self,name):\n",
    "        self.name=name\n",
    "        \n",
    "    def speak(self):\n",
    "        print('Subclass must implement this method')\n",
    "        \n",
    "\n",
    "##  Base class 2\n",
    "class Pet:\n",
    "    def __init__(self, owner):\n",
    "        self.owner = owner\n",
    "\n",
    "## Derived Class\n",
    "class Dog(Animal, Pet):\n",
    "    def __init__(self,name,owner):\n",
    "        Animal.__init__(self,name)\n",
    "        Pet.__init__(self,owner)\n",
    "        \n",
    "    def speak(self):\n",
    "        return f'{self.name} says woof'\n",
    "    \n",
    "    "
   ]
  },
  {
   "cell_type": "code",
   "execution_count": 10,
   "metadata": {
    "execution": {
     "iopub.execute_input": "2024-08-01T07:14:55.132620Z",
     "iopub.status.busy": "2024-08-01T07:14:55.132203Z",
     "iopub.status.idle": "2024-08-01T07:14:55.148780Z",
     "shell.execute_reply": "2024-08-01T07:14:55.147039Z",
     "shell.execute_reply.started": "2024-08-01T07:14:55.132585Z"
    },
    "trusted": true
   },
   "outputs": [
    {
     "data": {
      "text/plain": [
       "<__main__.Dog at 0x79b5bf619f00>"
      ]
     },
     "execution_count": 10,
     "metadata": {},
     "output_type": "execute_result"
    }
   ],
   "source": [
    "## create an object\n",
    "dog1 = Dog('Buddy','Indhra')\n",
    "dog1"
   ]
  },
  {
   "cell_type": "code",
   "execution_count": 11,
   "metadata": {
    "execution": {
     "iopub.execute_input": "2024-08-01T07:14:55.155670Z",
     "iopub.status.busy": "2024-08-01T07:14:55.154287Z",
     "iopub.status.idle": "2024-08-01T07:14:55.166362Z",
     "shell.execute_reply": "2024-08-01T07:14:55.164875Z",
     "shell.execute_reply.started": "2024-08-01T07:14:55.155620Z"
    },
    "trusted": true
   },
   "outputs": [
    {
     "data": {
      "text/plain": [
       "'Buddy says woof'"
      ]
     },
     "execution_count": 11,
     "metadata": {},
     "output_type": "execute_result"
    }
   ],
   "source": [
    "dog1.speak()"
   ]
  },
  {
   "cell_type": "code",
   "execution_count": 12,
   "metadata": {
    "execution": {
     "iopub.execute_input": "2024-08-01T07:14:55.168035Z",
     "iopub.status.busy": "2024-08-01T07:14:55.167711Z",
     "iopub.status.idle": "2024-08-01T07:14:55.181811Z",
     "shell.execute_reply": "2024-08-01T07:14:55.180302Z",
     "shell.execute_reply.started": "2024-08-01T07:14:55.168008Z"
    },
    "trusted": true
   },
   "outputs": [
    {
     "data": {
      "text/plain": [
       "'Indhra'"
      ]
     },
     "execution_count": 12,
     "metadata": {},
     "output_type": "execute_result"
    }
   ],
   "source": [
    "dog1.owner"
   ]
  },
  {
   "cell_type": "markdown",
   "metadata": {},
   "source": [
    "# Polymorphism\n",
    "Polymorphism is a core concept of OOPs that allows objects of different classes to be treated as objects of a common superclass. It provides a way to perform a single action in different forms.\n",
    "Polymorphism is typically achieved through method overriding and interfaces."
   ]
  },
  {
   "cell_type": "markdown",
   "metadata": {},
   "source": [
    "## Method Overriding\n",
    "Method overriding allows a child class to provide a specific implementation of a method that is already defined in its parent class"
   ]
  },
  {
   "cell_type": "code",
   "execution_count": 13,
   "metadata": {
    "execution": {
     "iopub.execute_input": "2024-08-01T07:14:55.183948Z",
     "iopub.status.busy": "2024-08-01T07:14:55.183520Z",
     "iopub.status.idle": "2024-08-01T07:14:55.197697Z",
     "shell.execute_reply": "2024-08-01T07:14:55.196240Z",
     "shell.execute_reply.started": "2024-08-01T07:14:55.183904Z"
    },
    "trusted": true
   },
   "outputs": [
    {
     "data": {
      "text/plain": [
       "('woooooooof', 'meooowwwwww')"
      ]
     },
     "execution_count": 13,
     "metadata": {},
     "output_type": "execute_result"
    }
   ],
   "source": [
    "## Base Class\n",
    "\n",
    "class Animal:\n",
    "    def speak(self):\n",
    "        return f'sound of the animal'\n",
    "    \n",
    "## derived class \n",
    "class Dog(Animal):\n",
    "    def speak(self):\n",
    "        return f'woooooooof'\n",
    "    \n",
    "## another derived class\n",
    "class cat(Animal):\n",
    "    def speak(self):\n",
    "        return f'meooowwwwww'\n",
    "    \n",
    "\n",
    "# creat an object\n",
    "dog = Dog()\n",
    "cats = cat()\n",
    "dog.speak(), cats.speak()"
   ]
  },
  {
   "cell_type": "code",
   "execution_count": 14,
   "metadata": {
    "execution": {
     "iopub.execute_input": "2024-08-01T07:14:55.199807Z",
     "iopub.status.busy": "2024-08-01T07:14:55.199414Z",
     "iopub.status.idle": "2024-08-01T07:14:55.209429Z",
     "shell.execute_reply": "2024-08-01T07:14:55.208056Z",
     "shell.execute_reply.started": "2024-08-01T07:14:55.199775Z"
    },
    "trusted": true
   },
   "outputs": [
    {
     "name": "stdout",
     "output_type": "stream",
     "text": [
      "woooooooof\n"
     ]
    }
   ],
   "source": [
    "## funcition that demonstrates polyorphism\n",
    "def animal_speak(animal):\n",
    "    print(animal.speak())\n",
    "    \n",
    "animal_speak(dog)    "
   ]
  },
  {
   "cell_type": "code",
   "execution_count": 15,
   "metadata": {
    "execution": {
     "iopub.execute_input": "2024-08-01T07:14:55.211722Z",
     "iopub.status.busy": "2024-08-01T07:14:55.211227Z",
     "iopub.status.idle": "2024-08-01T07:14:55.224040Z",
     "shell.execute_reply": "2024-08-01T07:14:55.222441Z",
     "shell.execute_reply.started": "2024-08-01T07:14:55.211679Z"
    },
    "trusted": true
   },
   "outputs": [
    {
     "name": "stdout",
     "output_type": "stream",
     "text": [
      "the area is 20\n",
      "the area is 153.86\n"
     ]
    }
   ],
   "source": [
    "## Polymorphism with functions aand methods\n",
    "## base class\n",
    "\n",
    "class Shape:\n",
    "    def area(self):\n",
    "        return 'the area of the figure'\n",
    "    \n",
    "## derived class 1 \n",
    "class Rectangle(Shape):\n",
    "    def __init__(self,width,height):\n",
    "        self.width =width\n",
    "        self.height=height\n",
    "        \n",
    "    def area(self):\n",
    "        return self.width * self.height\n",
    "    \n",
    "## derived class 2 \n",
    "class Circle(Shape):\n",
    "    def __init__(self, radius):\n",
    "        self.radius = radius\n",
    "        \n",
    "    def area(self):\n",
    "        return 3.14*self.radius * self.radius \n",
    "    \n",
    "    \n",
    "## function that demonstrates polymorphism\n",
    "def print_area(shape):\n",
    "    print(f'the area is {shape.area()}')\n",
    "    \n",
    "rectangle = Rectangle(4,5)\n",
    "circles = Circle(7)\n",
    "\n",
    "print_area(rectangle)\n",
    "print_area(circles)"
   ]
  },
  {
   "cell_type": "markdown",
   "metadata": {},
   "source": [
    "# Polymophism with Abstract base classes\n",
    "Abstract Base Classes are used to define common methods for a  group of related objects.\n",
    "They can enforce that derived classes implement particular methods, \n",
    "promoting consistency across different implementations"
   ]
  },
  {
   "cell_type": "code",
   "execution_count": null,
   "metadata": {},
   "outputs": [],
   "source": []
  },
  {
   "cell_type": "markdown",
   "metadata": {},
   "source": [
    "# Encapsulation\n",
    "is the concept of wrapping data (variables) and methods(functions) together as a single unit. It restricts direct access to some of the object's components, which is means of preventing accidental interferences and misuse of the data."
   ]
  },
  {
   "cell_type": "code",
   "execution_count": 16,
   "metadata": {
    "execution": {
     "iopub.execute_input": "2024-08-01T07:14:55.226806Z",
     "iopub.status.busy": "2024-08-01T07:14:55.226171Z",
     "iopub.status.idle": "2024-08-01T07:14:55.240140Z",
     "shell.execute_reply": "2024-08-01T07:14:55.238763Z",
     "shell.execute_reply.started": "2024-08-01T07:14:55.226757Z"
    },
    "trusted": true
   },
   "outputs": [
    {
     "data": {
      "text/plain": [
       "['__class__',\n",
       " '__delattr__',\n",
       " '__dict__',\n",
       " '__dir__',\n",
       " '__doc__',\n",
       " '__eq__',\n",
       " '__format__',\n",
       " '__ge__',\n",
       " '__getattribute__',\n",
       " '__gt__',\n",
       " '__hash__',\n",
       " '__init__',\n",
       " '__init_subclass__',\n",
       " '__le__',\n",
       " '__lt__',\n",
       " '__module__',\n",
       " '__ne__',\n",
       " '__new__',\n",
       " '__reduce__',\n",
       " '__reduce_ex__',\n",
       " '__repr__',\n",
       " '__setattr__',\n",
       " '__sizeof__',\n",
       " '__str__',\n",
       " '__subclasshook__',\n",
       " '__weakref__',\n",
       " 'age',\n",
       " 'name']"
      ]
     },
     "execution_count": 16,
     "metadata": {},
     "output_type": "execute_result"
    }
   ],
   "source": [
    "## encapsulation with Getter and Setter methods\n",
    "### public, portected, private varaibles or access modifiers\n",
    "\n",
    "class Person:\n",
    "    def __init__(self, name, age):\n",
    "        self.name=name # Public variables\n",
    "        self.age=age # public  variables\n",
    "        \n",
    "persons = Person('Krish',37)        \n",
    "dir(persons)"
   ]
  },
  {
   "cell_type": "code",
   "execution_count": 17,
   "metadata": {
    "execution": {
     "iopub.execute_input": "2024-08-01T07:14:55.242062Z",
     "iopub.status.busy": "2024-08-01T07:14:55.241709Z",
     "iopub.status.idle": "2024-08-01T07:14:55.255113Z",
     "shell.execute_reply": "2024-08-01T07:14:55.253856Z",
     "shell.execute_reply.started": "2024-08-01T07:14:55.242030Z"
    },
    "trusted": true
   },
   "outputs": [
    {
     "data": {
      "text/plain": [
       "'Krish'"
      ]
     },
     "execution_count": 17,
     "metadata": {},
     "output_type": "execute_result"
    }
   ],
   "source": [
    "def get_name(person):\n",
    "    return person.name \n",
    "\n",
    "get_name(persons)\n",
    "## here we can access the variable of the class outside the actual class"
   ]
  },
  {
   "cell_type": "code",
   "execution_count": 18,
   "metadata": {
    "execution": {
     "iopub.execute_input": "2024-08-01T07:14:55.257424Z",
     "iopub.status.busy": "2024-08-01T07:14:55.256979Z",
     "iopub.status.idle": "2024-08-01T07:14:55.270754Z",
     "shell.execute_reply": "2024-08-01T07:14:55.269579Z",
     "shell.execute_reply.started": "2024-08-01T07:14:55.257386Z"
    },
    "trusted": true
   },
   "outputs": [
    {
     "data": {
      "text/plain": [
       "['_Person__age',\n",
       " '_Person__name',\n",
       " '__class__',\n",
       " '__delattr__',\n",
       " '__dict__',\n",
       " '__dir__',\n",
       " '__doc__',\n",
       " '__eq__',\n",
       " '__format__',\n",
       " '__ge__',\n",
       " '__getattribute__',\n",
       " '__gt__',\n",
       " '__hash__',\n",
       " '__init__',\n",
       " '__init_subclass__',\n",
       " '__le__',\n",
       " '__lt__',\n",
       " '__module__',\n",
       " '__ne__',\n",
       " '__new__',\n",
       " '__reduce__',\n",
       " '__reduce_ex__',\n",
       " '__repr__',\n",
       " '__setattr__',\n",
       " '__sizeof__',\n",
       " '__str__',\n",
       " '__subclasshook__',\n",
       " '__weakref__',\n",
       " 'gender']"
      ]
     },
     "execution_count": 18,
     "metadata": {},
     "output_type": "execute_result"
    }
   ],
   "source": [
    "## private variables\n",
    "\n",
    "class Person:\n",
    "    def __init__(self, name, age,gender):\n",
    "        self.__name=name # private variables\n",
    "        self.__age=age # private  variables\n",
    "        self.gender = gender # Public varaibles\n",
    "        \n",
    "        \n",
    "persona = Person('indhraKiranu',22,'male')        \n",
    "dir(persona)"
   ]
  },
  {
   "cell_type": "code",
   "execution_count": 19,
   "metadata": {
    "execution": {
     "iopub.execute_input": "2024-08-01T07:14:55.272609Z",
     "iopub.status.busy": "2024-08-01T07:14:55.272181Z",
     "iopub.status.idle": "2024-08-01T07:14:55.732184Z",
     "shell.execute_reply": "2024-08-01T07:14:55.730323Z",
     "shell.execute_reply.started": "2024-08-01T07:14:55.272564Z"
    },
    "trusted": true
   },
   "outputs": [
    {
     "ename": "AttributeError",
     "evalue": "'Person' object has no attribute '__name'",
     "output_type": "error",
     "traceback": [
      "\u001b[0;31m---------------------------------------------------------------------------\u001b[0m",
      "\u001b[0;31mAttributeError\u001b[0m                            Traceback (most recent call last)",
      "Cell \u001b[0;32mIn[19], line 4\u001b[0m\n\u001b[1;32m      1\u001b[0m \u001b[38;5;28;01mdef\u001b[39;00m \u001b[38;5;21mget_name\u001b[39m(persn):\n\u001b[1;32m      2\u001b[0m     \u001b[38;5;28;01mreturn\u001b[39;00m persn\u001b[38;5;241m.\u001b[39m__name\n\u001b[0;32m----> 4\u001b[0m \u001b[43mget_name\u001b[49m\u001b[43m(\u001b[49m\u001b[43mpersona\u001b[49m\u001b[43m)\u001b[49m\n\u001b[1;32m      5\u001b[0m \u001b[38;5;66;03m## we will not be able to access the private varaibles\u001b[39;00m\n\u001b[1;32m      6\u001b[0m \u001b[38;5;66;03m## since we dont want to others see the variable by outsiders\u001b[39;00m\n",
      "Cell \u001b[0;32mIn[19], line 2\u001b[0m, in \u001b[0;36mget_name\u001b[0;34m(persn)\u001b[0m\n\u001b[1;32m      1\u001b[0m \u001b[38;5;28;01mdef\u001b[39;00m \u001b[38;5;21mget_name\u001b[39m(persn):\n\u001b[0;32m----> 2\u001b[0m     \u001b[38;5;28;01mreturn\u001b[39;00m \u001b[43mpersn\u001b[49m\u001b[38;5;241;43m.\u001b[39;49m\u001b[43m__name\u001b[49m\n",
      "\u001b[0;31mAttributeError\u001b[0m: 'Person' object has no attribute '__name'"
     ]
    }
   ],
   "source": [
    "def get_name(persn):\n",
    "    return persn.__name\n",
    "\n",
    "get_name(persona)\n",
    "## we will not be able to access the private varaibles\n",
    "## since we dont want to others see the variable by outsiders"
   ]
  },
  {
   "cell_type": "code",
   "execution_count": 21,
   "metadata": {
    "execution": {
     "iopub.execute_input": "2024-08-01T07:15:12.467885Z",
     "iopub.status.busy": "2024-08-01T07:15:12.467437Z",
     "iopub.status.idle": "2024-08-01T07:15:12.481647Z",
     "shell.execute_reply": "2024-08-01T07:15:12.480157Z",
     "shell.execute_reply.started": "2024-08-01T07:15:12.467849Z"
    },
    "trusted": true
   },
   "outputs": [
    {
     "name": "stdout",
     "output_type": "stream",
     "text": [
      "indhraKiranu\n"
     ]
    },
    {
     "data": {
      "text/plain": [
       "['_Person__location',\n",
       " '__class__',\n",
       " '__delattr__',\n",
       " '__dict__',\n",
       " '__dir__',\n",
       " '__doc__',\n",
       " '__eq__',\n",
       " '__format__',\n",
       " '__ge__',\n",
       " '__getattribute__',\n",
       " '__gt__',\n",
       " '__hash__',\n",
       " '__init__',\n",
       " '__init_subclass__',\n",
       " '__le__',\n",
       " '__lt__',\n",
       " '__module__',\n",
       " '__ne__',\n",
       " '__new__',\n",
       " '__reduce__',\n",
       " '__reduce_ex__',\n",
       " '__repr__',\n",
       " '__setattr__',\n",
       " '__sizeof__',\n",
       " '__str__',\n",
       " '__subclasshook__',\n",
       " '__weakref__',\n",
       " '_age',\n",
       " '_name',\n",
       " 'gender']"
      ]
     },
     "execution_count": 21,
     "metadata": {},
     "output_type": "execute_result"
    }
   ],
   "source": [
    "## PROTECTED variables\n",
    "\n",
    "class Person:\n",
    "    def __init__(self, name, age,gender,location):\n",
    "        self._name=name # PROTECTED variables\n",
    "        self._age=age # PROTECTED  variables\n",
    "        self.gender = gender # Public varaibles\n",
    "        self.__location = location # private variable\n",
    "        \n",
    "\n",
    "class Employee(Person):\n",
    "    def __init__(self, name, age,gender,location):\n",
    "        super().__init__(name,age,gender, location)\n",
    "        \n",
    "persona = Employee('indhraKiranu',22,'male','blr')    \n",
    "print(persona._name)\n",
    "dir(persona)"
   ]
  },
  {
   "cell_type": "code",
   "execution_count": 22,
   "metadata": {
    "execution": {
     "iopub.execute_input": "2024-08-01T07:15:12.485770Z",
     "iopub.status.busy": "2024-08-01T07:15:12.484675Z",
     "iopub.status.idle": "2024-08-01T07:15:12.497464Z",
     "shell.execute_reply": "2024-08-01T07:15:12.496195Z",
     "shell.execute_reply.started": "2024-08-01T07:15:12.485714Z"
    },
    "trusted": true
   },
   "outputs": [
    {
     "name": "stdout",
     "output_type": "stream",
     "text": [
      "<__main__.Person object at 0x79b5bf629ed0>\n",
      "naiku\n",
      "22\n",
      "27\n",
      "error age cannot be negative\n"
     ]
    }
   ],
   "source": [
    "## encapsulation with Getter and Setter methods\n",
    "\n",
    "\n",
    "class Person:\n",
    "    def __init__(self, name, age,gender,location):\n",
    "        self.__name=name # private variables acces modifier or variable\n",
    "        self.__age=age # private  variables acces modifier or variable\n",
    "        self.gender = gender # Public varaibles\n",
    "        self.__location = location # private variable\n",
    "        \n",
    " \n",
    "    ## getter method for name\n",
    "    def get_name(self):\n",
    "        return self.__name \n",
    "    \n",
    "    ## setter method for name\n",
    "    def  set_name(self,name):\n",
    "        self.__name=name \n",
    "    \n",
    "    ##getter method for age\n",
    "    def get_age(self):\n",
    "        return self.__age \n",
    "    \n",
    "    ## setter mehtod for age\n",
    "    def set_age(self,age):\n",
    "        if age>0:\n",
    "            self.__age = age\n",
    "            \n",
    "        else:\n",
    "            print('error age cannot be negative')\n",
    "        \n",
    "        \n",
    "personal = Person('naiku',22, 'male','India')    \n",
    "print(personal)\n",
    "\n",
    "print(personal.get_name())\n",
    "print(personal.get_age())\n",
    "\n",
    "personal.set_age(27)\n",
    "print(personal.get_age())\n",
    "personal.set_age(-5)"
   ]
  },
  {
   "cell_type": "markdown",
   "metadata": {},
   "source": [
    "# Abstraction\n",
    "\n",
    "is the concept of hiding the complex implementation details and showing only the necessary features of an object. This helps in reducing programming complexity and effort"
   ]
  },
  {
   "cell_type": "code",
   "execution_count": 23,
   "metadata": {
    "execution": {
     "iopub.execute_input": "2024-08-01T07:15:12.499398Z",
     "iopub.status.busy": "2024-08-01T07:15:12.498996Z",
     "iopub.status.idle": "2024-08-01T07:15:12.518197Z",
     "shell.execute_reply": "2024-08-01T07:15:12.516803Z",
     "shell.execute_reply.started": "2024-08-01T07:15:12.499364Z"
    },
    "trusted": true
   },
   "outputs": [
    {
     "name": "stdout",
     "output_type": "stream",
     "text": [
      "car engine started\n"
     ]
    }
   ],
   "source": [
    "from abc import ABC, abstractmethod\n",
    "\n",
    "\n",
    "## abstract base class\n",
    "class Vehicle(ABC):  ## ABC is empty\n",
    "    def drive(self):\n",
    "        print('The vehicle is used for driving')\n",
    "    \n",
    "    \n",
    "    @abstractmethod\n",
    "    def start_engine(self):\n",
    "        pass \n",
    "    \n",
    "class Car(Vehicle):\n",
    "    def start_engine(self):\n",
    "        print('car engine started')\n",
    "        \n",
    "\n",
    "def operate_vehicle(vehs):\n",
    "    vehs.start_engine()\n",
    "    \n",
    "kar = Car()    \n",
    "operate_vehicle(kar)"
   ]
  },
  {
   "cell_type": "markdown",
   "metadata": {},
   "source": [
    " # Magic methods"
   ]
  },
  {
   "cell_type": "markdown",
   "metadata": {},
   "source": [
    "Magic methods in Python, aslo known as dunder methods ( double underscore methods), are special methods that start and end with double underscores. these methods enable  you to define the behaviour of objects for built in operations such as arithmetic operations, comparisons, and more."
   ]
  },
  {
   "cell_type": "markdown",
   "metadata": {},
   "source": [
    "Magic methods  are predefined methods in Python that you can override to change the beaviour of your objects. some common magic methods include:\n",
    "* init : initializes a new isntance of a class\n",
    "* str returns a string representation of an object\n",
    "* repr returns an official string representation of an object"
   ]
  },
  {
   "cell_type": "code",
   "execution_count": 24,
   "metadata": {
    "execution": {
     "iopub.execute_input": "2024-08-01T07:15:12.520056Z",
     "iopub.status.busy": "2024-08-01T07:15:12.519708Z",
     "iopub.status.idle": "2024-08-01T07:15:12.535242Z",
     "shell.execute_reply": "2024-08-01T07:15:12.534025Z",
     "shell.execute_reply.started": "2024-08-01T07:15:12.520026Z"
    },
    "trusted": true
   },
   "outputs": [
    {
     "name": "stdout",
     "output_type": "stream",
     "text": [
      "<__main__.Person object at 0x79b5beb5e110>\n"
     ]
    },
    {
     "data": {
      "text/plain": [
       "'<__main__.Person object at 0x79b5beb5e110>'"
      ]
     },
     "execution_count": 24,
     "metadata": {},
     "output_type": "execute_result"
    }
   ],
   "source": [
    "## exisiting basic methods\n",
    "\n",
    "class Person: \n",
    "    def __init__(self,name,age):\n",
    "        self.name = name\n",
    "        self.age = age \n",
    "        \n",
    "persona = Person('naiku',22)        \n",
    "print(persona)\n",
    "persona.__str__()"
   ]
  },
  {
   "cell_type": "code",
   "execution_count": 25,
   "metadata": {
    "execution": {
     "iopub.execute_input": "2024-08-01T07:15:12.538424Z",
     "iopub.status.busy": "2024-08-01T07:15:12.538043Z",
     "iopub.status.idle": "2024-08-01T07:15:12.548380Z",
     "shell.execute_reply": "2024-08-01T07:15:12.547225Z",
     "shell.execute_reply.started": "2024-08-01T07:15:12.538390Z"
    },
    "trusted": true
   },
   "outputs": [
    {
     "name": "stdout",
     "output_type": "stream",
     "text": [
      "raj , 26 years old\n",
      "Person(name=raj, age=26)\n"
     ]
    }
   ],
   "source": [
    "## changing the exisiting BASIC methods\n",
    "\n",
    "\n",
    "class Person: \n",
    "    def __init__(self,name,age):\n",
    "        self.name = name\n",
    "        self.age = age \n",
    "        \n",
    "    def __str__(self):\n",
    "        return f'{self.name} , {self.age} years old'\n",
    "    \n",
    "    \n",
    "    def __repr__(self):\n",
    "        return f'Person(name={self.name}, age={self.age})'\n",
    "    \n",
    "persn = Person('raj',26)    \n",
    "print(persn)\n",
    "print(persn.__repr__())\n",
    "## here it will be changed to the rewritten values"
   ]
  },
  {
   "cell_type": "markdown",
   "metadata": {},
   "source": [
    "## Operator's overloading - magic methods"
   ]
  },
  {
   "cell_type": "code",
   "execution_count": 26,
   "metadata": {
    "execution": {
     "iopub.execute_input": "2024-08-01T07:15:12.550421Z",
     "iopub.status.busy": "2024-08-01T07:15:12.549951Z",
     "iopub.status.idle": "2024-08-01T07:15:12.567272Z",
     "shell.execute_reply": "2024-08-01T07:15:12.566071Z",
     "shell.execute_reply.started": "2024-08-01T07:15:12.550377Z"
    },
    "trusted": true
   },
   "outputs": [
    {
     "name": "stdout",
     "output_type": "stream",
     "text": [
      "vector (6,8)\n",
      "vector (-2,-2)\n"
     ]
    }
   ],
   "source": [
    "\"\"\" \n",
    "\n",
    "\n",
    "functions like the following\n",
    "\n",
    "__add__ : addition of \n",
    "\n",
    "__gt__ : greater than\n",
    "\"\"\"\n",
    "\n",
    "## mathematical operations for vectors\n",
    "\n",
    "class Vector:\n",
    "    def __init__(self, x, y):\n",
    "        self.x=x\n",
    "        self.y=y\n",
    "        \n",
    "    def __add__(self,other):\n",
    "        return Vector(self.x+other.x, self.y+other.y)\n",
    "    \n",
    "    def __sub__(self,other):\n",
    "        return Vector(self.x - other.x, self.y - other.y)\n",
    "    \n",
    "    def __mul__(self, other):\n",
    "        return Vector(self.x * other, self.y * other)\n",
    "    \n",
    "    def __eq__(self, other):\n",
    "        return self.x == other.x and self.y == other.y\n",
    "    \n",
    "    def __repr__(self):\n",
    "        return f'vector ({self.x},{self.y})'\n",
    "    \n",
    "v1=Vector(2,3)\n",
    "v2=Vector(4,5)\n",
    "\n",
    "print(v1+v2)\n",
    "print(v1-v2) "
   ]
  },
  {
   "cell_type": "code",
   "execution_count": null,
   "metadata": {},
   "outputs": [],
   "source": []
  }
 ],
 "metadata": {
  "kaggle": {
   "accelerator": "none",
   "dataSources": [],
   "dockerImageVersionId": 30746,
   "isGpuEnabled": false,
   "isInternetEnabled": true,
   "language": "python",
   "sourceType": "notebook"
  },
  "kernelspec": {
   "display_name": "Python 3",
   "language": "python",
   "name": "python3"
  },
  "language_info": {
   "codemirror_mode": {
    "name": "ipython",
    "version": 3
   },
   "file_extension": ".py",
   "mimetype": "text/x-python",
   "name": "python",
   "nbconvert_exporter": "python",
   "pygments_lexer": "ipython3",
   "version": "3.10.13"
  }
 },
 "nbformat": 4,
 "nbformat_minor": 4
}
