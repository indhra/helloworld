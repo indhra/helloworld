{
 "cells": [
  {
   "cell_type": "code",
   "execution_count": 1,
   "id": "25d8f157",
   "metadata": {
    "execution": {
     "iopub.execute_input": "2024-07-30T14:05:25.048250Z",
     "iopub.status.busy": "2024-07-30T14:05:25.047438Z",
     "iopub.status.idle": "2024-07-30T14:05:25.060932Z",
     "shell.execute_reply": "2024-07-30T14:05:25.059975Z"
    },
    "papermill": {
     "duration": 0.02751,
     "end_time": "2024-07-30T14:05:25.063427",
     "exception": false,
     "start_time": "2024-07-30T14:05:25.035917",
     "status": "completed"
    },
    "tags": []
   },
   "outputs": [],
   "source": [
    "import math"
   ]
  },
  {
   "cell_type": "markdown",
   "id": "940c60b3",
   "metadata": {
    "papermill": {
     "duration": 0.008437,
     "end_time": "2024-07-30T14:05:25.080690",
     "exception": false,
     "start_time": "2024-07-30T14:05:25.072253",
     "status": "completed"
    },
    "tags": []
   },
   "source": [
    "# Class - Bank"
   ]
  },
  {
   "cell_type": "code",
   "execution_count": 2,
   "id": "ba263f56",
   "metadata": {
    "execution": {
     "iopub.execute_input": "2024-07-30T14:05:25.100366Z",
     "iopub.status.busy": "2024-07-30T14:05:25.099436Z",
     "iopub.status.idle": "2024-07-30T14:05:25.107667Z",
     "shell.execute_reply": "2024-07-30T14:05:25.106528Z"
    },
    "papermill": {
     "duration": 0.02066,
     "end_time": "2024-07-30T14:05:25.110048",
     "exception": false,
     "start_time": "2024-07-30T14:05:25.089388",
     "status": "completed"
    },
    "tags": []
   },
   "outputs": [],
   "source": [
    "class BankAccount():\n",
    "    def __init__(self, owner, balance=0) -> None:\n",
    "        self.owner = owner\n",
    "        self.balance = balance\n",
    "        print(f'welcome {self.owner}') \n",
    "        \n",
    "    def deposit(self, amount):\n",
    "        self.balance += amount \n",
    "        print(f'{amount} is deposited.  new balance is {self.balance}')\n",
    "        \n",
    "    def withdraw(self,  amount):\n",
    "        if amount > self.balance:\n",
    "            print('Insufficient funds!!!!')\n",
    "        else:\n",
    "            self.balance -=amount \n",
    "            print(f'{amount} is withdrawn. new  balance is {self.balance}')\n",
    "            \n",
    "    def get_balance(self):\n",
    "        return self.balance "
   ]
  },
  {
   "cell_type": "code",
   "execution_count": 3,
   "id": "d8ea657d",
   "metadata": {
    "execution": {
     "iopub.execute_input": "2024-07-30T14:05:25.128929Z",
     "iopub.status.busy": "2024-07-30T14:05:25.128529Z",
     "iopub.status.idle": "2024-07-30T14:05:25.137729Z",
     "shell.execute_reply": "2024-07-30T14:05:25.136788Z"
    },
    "papermill": {
     "duration": 0.023207,
     "end_time": "2024-07-30T14:05:25.142019",
     "exception": false,
     "start_time": "2024-07-30T14:05:25.118812",
     "status": "completed"
    },
    "tags": []
   },
   "outputs": [
    {
     "name": "stdout",
     "output_type": "stream",
     "text": [
      "welcome indhra\n",
      "300 is deposited.  new balance is 5300\n",
      "5000 is withdrawn. new  balance is 300\n"
     ]
    },
    {
     "data": {
      "text/plain": [
       "300"
      ]
     },
     "execution_count": 3,
     "metadata": {},
     "output_type": "execute_result"
    }
   ],
   "source": [
    "hdfc = BankAccount('indhra', balance=5000)\n",
    "hdfc.deposit(300)\n",
    "hdfc.withdraw(5000)\n",
    "hdfc.get_balance()"
   ]
  },
  {
   "cell_type": "markdown",
   "id": "dbf25433",
   "metadata": {
    "papermill": {
     "duration": 0.008508,
     "end_time": "2024-07-30T14:05:25.159704",
     "exception": false,
     "start_time": "2024-07-30T14:05:25.151196",
     "status": "completed"
    },
    "tags": []
   },
   "source": [
    "# Inheritance\n",
    "inheritance is a fundamental concept in OOPS that allows a class to inherit attributes and methods from another class.  This lesson covers single inheritance and multiple inheritance, demonstrating how to create and use them in python."
   ]
  },
  {
   "cell_type": "code",
   "execution_count": 4,
   "id": "e57a18d5",
   "metadata": {
    "execution": {
     "iopub.execute_input": "2024-07-30T14:05:25.179340Z",
     "iopub.status.busy": "2024-07-30T14:05:25.178927Z",
     "iopub.status.idle": "2024-07-30T14:05:25.185083Z",
     "shell.execute_reply": "2024-07-30T14:05:25.183998Z"
    },
    "papermill": {
     "duration": 0.018671,
     "end_time": "2024-07-30T14:05:25.187622",
     "exception": false,
     "start_time": "2024-07-30T14:05:25.168951",
     "status": "completed"
    },
    "tags": []
   },
   "outputs": [],
   "source": [
    "## inheritance -- single inheritance\n",
    "## parent class\n",
    "\n",
    "class Car:\n",
    "    def __init__(self, windows, doors, enginetype):\n",
    "        self.windows=windows\n",
    "        self.doors=doors\n",
    "        self.enginetype=enginetype\n",
    "        \n",
    "    def drive(self):\n",
    "        print(f'the person will drive the {self.enginetype} car')\n",
    "        "
   ]
  },
  {
   "cell_type": "code",
   "execution_count": 5,
   "id": "c3a15b6f",
   "metadata": {
    "execution": {
     "iopub.execute_input": "2024-07-30T14:05:25.207801Z",
     "iopub.status.busy": "2024-07-30T14:05:25.206606Z",
     "iopub.status.idle": "2024-07-30T14:05:25.212530Z",
     "shell.execute_reply": "2024-07-30T14:05:25.211518Z"
    },
    "papermill": {
     "duration": 0.018427,
     "end_time": "2024-07-30T14:05:25.214942",
     "exception": false,
     "start_time": "2024-07-30T14:05:25.196515",
     "status": "completed"
    },
    "tags": []
   },
   "outputs": [
    {
     "name": "stdout",
     "output_type": "stream",
     "text": [
      "the person will drive the petrol car\n"
     ]
    }
   ],
   "source": [
    "car1 = Car(4,5,'petrol')\n",
    "(car1.drive())"
   ]
  },
  {
   "cell_type": "code",
   "execution_count": 6,
   "id": "3aa3d591",
   "metadata": {
    "execution": {
     "iopub.execute_input": "2024-07-30T14:05:25.234445Z",
     "iopub.status.busy": "2024-07-30T14:05:25.233807Z",
     "iopub.status.idle": "2024-07-30T14:05:25.240033Z",
     "shell.execute_reply": "2024-07-30T14:05:25.239003Z"
    },
    "papermill": {
     "duration": 0.018463,
     "end_time": "2024-07-30T14:05:25.242321",
     "exception": false,
     "start_time": "2024-07-30T14:05:25.223858",
     "status": "completed"
    },
    "tags": []
   },
   "outputs": [],
   "source": [
    "## Child class\n",
    "\n",
    "class Tesla(Car):\n",
    "    def __init__(self, windows, doors,enginetype,is_selfdriving):\n",
    "        super().__init__(windows,doors,enginetype)\n",
    "        self.is_selfdriving=is_selfdriving\n",
    "        \n",
    "    def selfdriving(self):\n",
    "        print(f'Tesla supports self driving: {self.is_selfdriving}') \n",
    "        "
   ]
  },
  {
   "cell_type": "code",
   "execution_count": 7,
   "id": "5ef2acc9",
   "metadata": {
    "execution": {
     "iopub.execute_input": "2024-07-30T14:05:25.261904Z",
     "iopub.status.busy": "2024-07-30T14:05:25.261496Z",
     "iopub.status.idle": "2024-07-30T14:05:25.268107Z",
     "shell.execute_reply": "2024-07-30T14:05:25.266979Z"
    },
    "papermill": {
     "duration": 0.019353,
     "end_time": "2024-07-30T14:05:25.270436",
     "exception": false,
     "start_time": "2024-07-30T14:05:25.251083",
     "status": "completed"
    },
    "tags": []
   },
   "outputs": [
    {
     "name": "stdout",
     "output_type": "stream",
     "text": [
      "Tesla supports self driving: True\n"
     ]
    }
   ],
   "source": [
    "tesla1 = Tesla(4,5,'electric',True)\n",
    "(tesla1.selfdriving())\n",
    "\n"
   ]
  },
  {
   "cell_type": "code",
   "execution_count": 8,
   "id": "61821014",
   "metadata": {
    "execution": {
     "iopub.execute_input": "2024-07-30T14:05:25.289916Z",
     "iopub.status.busy": "2024-07-30T14:05:25.289107Z",
     "iopub.status.idle": "2024-07-30T14:05:25.294611Z",
     "shell.execute_reply": "2024-07-30T14:05:25.293603Z"
    },
    "papermill": {
     "duration": 0.017666,
     "end_time": "2024-07-30T14:05:25.296898",
     "exception": false,
     "start_time": "2024-07-30T14:05:25.279232",
     "status": "completed"
    },
    "tags": []
   },
   "outputs": [
    {
     "name": "stdout",
     "output_type": "stream",
     "text": [
      "the person will drive the electric car\n"
     ]
    }
   ],
   "source": [
    "tesla1.drive()"
   ]
  },
  {
   "cell_type": "markdown",
   "id": "cb0bab15",
   "metadata": {
    "papermill": {
     "duration": 0.008799,
     "end_time": "2024-07-30T14:05:25.314579",
     "exception": false,
     "start_time": "2024-07-30T14:05:25.305780",
     "status": "completed"
    },
    "tags": []
   },
   "source": [
    "## multiple inheritance\n",
    "when a class inherits from more than one base class"
   ]
  },
  {
   "cell_type": "code",
   "execution_count": 9,
   "id": "28d1d369",
   "metadata": {
    "execution": {
     "iopub.execute_input": "2024-07-30T14:05:25.334559Z",
     "iopub.status.busy": "2024-07-30T14:05:25.333610Z",
     "iopub.status.idle": "2024-07-30T14:05:25.341221Z",
     "shell.execute_reply": "2024-07-30T14:05:25.340193Z"
    },
    "papermill": {
     "duration": 0.01995,
     "end_time": "2024-07-30T14:05:25.343441",
     "exception": false,
     "start_time": "2024-07-30T14:05:25.323491",
     "status": "completed"
    },
    "tags": []
   },
   "outputs": [],
   "source": [
    "## Base class 1 \n",
    "\n",
    "class Animal:\n",
    "    def __init__(self,name):\n",
    "        self.name=name\n",
    "        \n",
    "    def speak(self):\n",
    "        print('Subclass must implement this method')\n",
    "        \n",
    "\n",
    "##  Base class 2\n",
    "class Pet:\n",
    "    def __init__(self, owner):\n",
    "        self.owner = owner\n",
    "\n",
    "## Derived Class\n",
    "class Dog(Animal, Pet):\n",
    "    def __init__(self,name,owner):\n",
    "        Animal.__init__(self,name)\n",
    "        Pet.__init__(self,owner)\n",
    "        \n",
    "    def speak(self):\n",
    "        return f'{self.name} says woof'\n",
    "    \n",
    "    "
   ]
  },
  {
   "cell_type": "code",
   "execution_count": 10,
   "id": "4b75c3dc",
   "metadata": {
    "execution": {
     "iopub.execute_input": "2024-07-30T14:05:25.364217Z",
     "iopub.status.busy": "2024-07-30T14:05:25.363284Z",
     "iopub.status.idle": "2024-07-30T14:05:25.370080Z",
     "shell.execute_reply": "2024-07-30T14:05:25.369042Z"
    },
    "papermill": {
     "duration": 0.019857,
     "end_time": "2024-07-30T14:05:25.372358",
     "exception": false,
     "start_time": "2024-07-30T14:05:25.352501",
     "status": "completed"
    },
    "tags": []
   },
   "outputs": [
    {
     "data": {
      "text/plain": [
       "<__main__.Dog at 0x7a6b9d515630>"
      ]
     },
     "execution_count": 10,
     "metadata": {},
     "output_type": "execute_result"
    }
   ],
   "source": [
    "## create an object\n",
    "dog1 = Dog('Buddy','Indhra')\n",
    "dog1"
   ]
  },
  {
   "cell_type": "code",
   "execution_count": 11,
   "id": "c187bbad",
   "metadata": {
    "execution": {
     "iopub.execute_input": "2024-07-30T14:05:25.392636Z",
     "iopub.status.busy": "2024-07-30T14:05:25.391837Z",
     "iopub.status.idle": "2024-07-30T14:05:25.398326Z",
     "shell.execute_reply": "2024-07-30T14:05:25.397318Z"
    },
    "papermill": {
     "duration": 0.018999,
     "end_time": "2024-07-30T14:05:25.400534",
     "exception": false,
     "start_time": "2024-07-30T14:05:25.381535",
     "status": "completed"
    },
    "tags": []
   },
   "outputs": [
    {
     "data": {
      "text/plain": [
       "'Buddy says woof'"
      ]
     },
     "execution_count": 11,
     "metadata": {},
     "output_type": "execute_result"
    }
   ],
   "source": [
    "dog1.speak()"
   ]
  },
  {
   "cell_type": "code",
   "execution_count": 12,
   "id": "24601459",
   "metadata": {
    "execution": {
     "iopub.execute_input": "2024-07-30T14:05:25.421320Z",
     "iopub.status.busy": "2024-07-30T14:05:25.420490Z",
     "iopub.status.idle": "2024-07-30T14:05:25.426989Z",
     "shell.execute_reply": "2024-07-30T14:05:25.425988Z"
    },
    "papermill": {
     "duration": 0.019474,
     "end_time": "2024-07-30T14:05:25.429324",
     "exception": false,
     "start_time": "2024-07-30T14:05:25.409850",
     "status": "completed"
    },
    "tags": []
   },
   "outputs": [
    {
     "data": {
      "text/plain": [
       "'Indhra'"
      ]
     },
     "execution_count": 12,
     "metadata": {},
     "output_type": "execute_result"
    }
   ],
   "source": [
    "dog1.owner"
   ]
  },
  {
   "cell_type": "markdown",
   "id": "03db65ae",
   "metadata": {
    "papermill": {
     "duration": 0.009329,
     "end_time": "2024-07-30T14:05:25.447950",
     "exception": false,
     "start_time": "2024-07-30T14:05:25.438621",
     "status": "completed"
    },
    "tags": []
   },
   "source": [
    "# Polymorphism\n",
    "Polymorphism is a core concept of OOPs that allows objects of different classes to be treated as objects of a common superclass. It provides a way to perform a single action in different forms.\n",
    "Polymorphism is typically achieved through method overriding and interfaces."
   ]
  },
  {
   "cell_type": "markdown",
   "id": "518b2823",
   "metadata": {
    "papermill": {
     "duration": 0.009291,
     "end_time": "2024-07-30T14:05:25.466991",
     "exception": false,
     "start_time": "2024-07-30T14:05:25.457700",
     "status": "completed"
    },
    "tags": []
   },
   "source": [
    "## Method Overriding\n",
    "Method overriding allows a child class to provide a specific implementation of a method that is already defined in its parent class"
   ]
  },
  {
   "cell_type": "code",
   "execution_count": 13,
   "id": "012a7699",
   "metadata": {
    "execution": {
     "iopub.execute_input": "2024-07-30T14:05:25.487333Z",
     "iopub.status.busy": "2024-07-30T14:05:25.486974Z",
     "iopub.status.idle": "2024-07-30T14:05:25.496513Z",
     "shell.execute_reply": "2024-07-30T14:05:25.495457Z"
    },
    "papermill": {
     "duration": 0.022457,
     "end_time": "2024-07-30T14:05:25.498873",
     "exception": false,
     "start_time": "2024-07-30T14:05:25.476416",
     "status": "completed"
    },
    "tags": []
   },
   "outputs": [
    {
     "data": {
      "text/plain": [
       "('woooooooof', 'meooowwwwww')"
      ]
     },
     "execution_count": 13,
     "metadata": {},
     "output_type": "execute_result"
    }
   ],
   "source": [
    "## Base Class\n",
    "\n",
    "class Animal:\n",
    "    def speak(self):\n",
    "        return f'sound of the animal'\n",
    "    \n",
    "## derived class \n",
    "class Dog(Animal):\n",
    "    def speak(self):\n",
    "        return f'woooooooof'\n",
    "    \n",
    "## another derived class\n",
    "class cat(Animal):\n",
    "    def speak(self):\n",
    "        return f'meooowwwwww'\n",
    "    \n",
    "\n",
    "# creat an object\n",
    "dog = Dog()\n",
    "cats = cat()\n",
    "dog.speak(), cats.speak()"
   ]
  },
  {
   "cell_type": "code",
   "execution_count": 14,
   "id": "e791517e",
   "metadata": {
    "execution": {
     "iopub.execute_input": "2024-07-30T14:05:25.520581Z",
     "iopub.status.busy": "2024-07-30T14:05:25.519471Z",
     "iopub.status.idle": "2024-07-30T14:05:25.525611Z",
     "shell.execute_reply": "2024-07-30T14:05:25.524637Z"
    },
    "papermill": {
     "duration": 0.019594,
     "end_time": "2024-07-30T14:05:25.527992",
     "exception": false,
     "start_time": "2024-07-30T14:05:25.508398",
     "status": "completed"
    },
    "tags": []
   },
   "outputs": [
    {
     "name": "stdout",
     "output_type": "stream",
     "text": [
      "woooooooof\n"
     ]
    }
   ],
   "source": [
    "## funcition that demonstrates polyorphism\n",
    "def animal_speak(animal):\n",
    "    print(animal.speak())\n",
    "    \n",
    "animal_speak(dog)    "
   ]
  },
  {
   "cell_type": "code",
   "execution_count": 15,
   "id": "a672f653",
   "metadata": {
    "execution": {
     "iopub.execute_input": "2024-07-30T14:05:25.549670Z",
     "iopub.status.busy": "2024-07-30T14:05:25.548598Z",
     "iopub.status.idle": "2024-07-30T14:05:25.558959Z",
     "shell.execute_reply": "2024-07-30T14:05:25.557783Z"
    },
    "papermill": {
     "duration": 0.023505,
     "end_time": "2024-07-30T14:05:25.561207",
     "exception": false,
     "start_time": "2024-07-30T14:05:25.537702",
     "status": "completed"
    },
    "tags": []
   },
   "outputs": [
    {
     "name": "stdout",
     "output_type": "stream",
     "text": [
      "the area is 20\n",
      "the area is 153.86\n"
     ]
    }
   ],
   "source": [
    "## Polymorphism with functions aand methods\n",
    "## base class\n",
    "\n",
    "class Shape:\n",
    "    def area(self):\n",
    "        return 'the area of the figure'\n",
    "    \n",
    "## derived class 1 \n",
    "class Rectangle(Shape):\n",
    "    def __init__(self,width,height):\n",
    "        self.width =width\n",
    "        self.height=height\n",
    "        \n",
    "    def area(self):\n",
    "        return self.width * self.height\n",
    "    \n",
    "## derived class 2 \n",
    "class Circle(Shape):\n",
    "    def __init__(self, radius):\n",
    "        self.radius = radius\n",
    "        \n",
    "    def area(self):\n",
    "        return 3.14*self.radius * self.radius \n",
    "    \n",
    "    \n",
    "## function that demonstrates polymorphism\n",
    "def print_area(shape):\n",
    "    print(f'the area is {shape.area()}')\n",
    "    \n",
    "rectangle = Rectangle(4,5)\n",
    "circles = Circle(7)\n",
    "\n",
    "print_area(rectangle)\n",
    "print_area(circles)"
   ]
  },
  {
   "cell_type": "markdown",
   "id": "c41a37ab",
   "metadata": {
    "papermill": {
     "duration": 0.009737,
     "end_time": "2024-07-30T14:05:25.580747",
     "exception": false,
     "start_time": "2024-07-30T14:05:25.571010",
     "status": "completed"
    },
    "tags": []
   },
   "source": [
    "# Polymophism with Abstract base classes\n",
    "Abstract Base Classes are used to define common methods for a  group of related objects.\n",
    "They can enforce that derived classes implement particular methods, \n",
    "promoting consistency across different implementations"
   ]
  },
  {
   "cell_type": "code",
   "execution_count": null,
   "id": "0053d990",
   "metadata": {
    "papermill": {
     "duration": 0.009585,
     "end_time": "2024-07-30T14:05:25.600110",
     "exception": false,
     "start_time": "2024-07-30T14:05:25.590525",
     "status": "completed"
    },
    "tags": []
   },
   "outputs": [],
   "source": []
  },
  {
   "cell_type": "markdown",
   "id": "65bc5464",
   "metadata": {
    "papermill": {
     "duration": 0.009649,
     "end_time": "2024-07-30T14:05:25.620935",
     "exception": false,
     "start_time": "2024-07-30T14:05:25.611286",
     "status": "completed"
    },
    "tags": []
   },
   "source": [
    "# Encapsulation\n",
    "is the concept of wrapping data (variables) and methods(functions) together as a single unit. It restricts direct access to some of the object's components, which is means of preventing accidental interferences and misuse of the data."
   ]
  },
  {
   "cell_type": "code",
   "execution_count": null,
   "id": "74cb2007",
   "metadata": {
    "papermill": {
     "duration": 0.009328,
     "end_time": "2024-07-30T14:05:25.639930",
     "exception": false,
     "start_time": "2024-07-30T14:05:25.630602",
     "status": "completed"
    },
    "tags": []
   },
   "outputs": [],
   "source": []
  },
  {
   "cell_type": "code",
   "execution_count": null,
   "id": "30c83bb2",
   "metadata": {
    "papermill": {
     "duration": 0.009463,
     "end_time": "2024-07-30T14:05:25.659057",
     "exception": false,
     "start_time": "2024-07-30T14:05:25.649594",
     "status": "completed"
    },
    "tags": []
   },
   "outputs": [],
   "source": []
  },
  {
   "cell_type": "code",
   "execution_count": null,
   "id": "06e03b01",
   "metadata": {
    "papermill": {
     "duration": 0.009407,
     "end_time": "2024-07-30T14:05:25.678222",
     "exception": false,
     "start_time": "2024-07-30T14:05:25.668815",
     "status": "completed"
    },
    "tags": []
   },
   "outputs": [],
   "source": []
  },
  {
   "cell_type": "code",
   "execution_count": null,
   "id": "4969bb7a",
   "metadata": {
    "papermill": {
     "duration": 0.009483,
     "end_time": "2024-07-30T14:05:25.697390",
     "exception": false,
     "start_time": "2024-07-30T14:05:25.687907",
     "status": "completed"
    },
    "tags": []
   },
   "outputs": [],
   "source": []
  },
  {
   "cell_type": "code",
   "execution_count": null,
   "id": "882a87c4",
   "metadata": {
    "papermill": {
     "duration": 0.009401,
     "end_time": "2024-07-30T14:05:25.716625",
     "exception": false,
     "start_time": "2024-07-30T14:05:25.707224",
     "status": "completed"
    },
    "tags": []
   },
   "outputs": [],
   "source": []
  },
  {
   "cell_type": "code",
   "execution_count": null,
   "id": "40bece4e",
   "metadata": {
    "papermill": {
     "duration": 0.009503,
     "end_time": "2024-07-30T14:05:25.735922",
     "exception": false,
     "start_time": "2024-07-30T14:05:25.726419",
     "status": "completed"
    },
    "tags": []
   },
   "outputs": [],
   "source": []
  }
 ],
 "metadata": {
  "kaggle": {
   "accelerator": "none",
   "dataSources": [],
   "dockerImageVersionId": 30746,
   "isGpuEnabled": false,
   "isInternetEnabled": true,
   "language": "python",
   "sourceType": "notebook"
  },
  "kernelspec": {
   "display_name": "Python 3",
   "language": "python",
   "name": "python3"
  },
  "language_info": {
   "codemirror_mode": {
    "name": "ipython",
    "version": 3
   },
   "file_extension": ".py",
   "mimetype": "text/x-python",
   "name": "python",
   "nbconvert_exporter": "python",
   "pygments_lexer": "ipython3",
   "version": "3.10.13"
  },
  "papermill": {
   "default_parameters": {},
   "duration": 4.023152,
   "end_time": "2024-07-30T14:05:26.065673",
   "environment_variables": {},
   "exception": null,
   "input_path": "__notebook__.ipynb",
   "output_path": "__notebook__.ipynb",
   "parameters": {},
   "start_time": "2024-07-30T14:05:22.042521",
   "version": "2.5.0"
  }
 },
 "nbformat": 4,
 "nbformat_minor": 5
}
