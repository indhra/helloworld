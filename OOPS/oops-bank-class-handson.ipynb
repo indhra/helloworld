{
 "cells": [
  {
   "cell_type": "code",
   "execution_count": 1,
   "metadata": {},
   "outputs": [],
   "source": [
    "import math"
   ]
  },
  {
   "cell_type": "markdown",
   "metadata": {},
   "source": [
    "# bank class"
   ]
  },
  {
   "cell_type": "code",
   "execution_count": 11,
   "metadata": {},
   "outputs": [],
   "source": [
    "class BankAccount():\n",
    "    def __init__(self, owner, balance=0) -> None:\n",
    "        self.owner = owner\n",
    "        self.balance = balance\n",
    "        print(f'welcome {self.owner}') \n",
    "        \n",
    "    def deposit(self, amount):\n",
    "        self.balance += amount \n",
    "        print(f'{amount} is deposited.  new balance is {self.balance}')\n",
    "        \n",
    "    def withdraw(self,  amount):\n",
    "        if amount > self.balance:\n",
    "            print('Insufficient funds!!!!')\n",
    "        else:\n",
    "            self.balance -=amount \n",
    "            print(f'{amount} is withdrawn. new  balance is {self.balance}')\n",
    "            \n",
    "    def get_balance(self):\n",
    "        return self.balance "
   ]
  },
  {
   "cell_type": "code",
   "execution_count": 12,
   "metadata": {},
   "outputs": [
    {
     "name": "stdout",
     "output_type": "stream",
     "text": [
      "welcome indhra\n",
      "300 is deposited.  new balance is 5300\n",
      "5000 is withdrawn. new  balance is 300\n"
     ]
    },
    {
     "data": {
      "text/plain": [
       "300"
      ]
     },
     "execution_count": 12,
     "metadata": {},
     "output_type": "execute_result"
    }
   ],
   "source": [
    "hdfc = BankAccount('indhra', balance=5000)\n",
    "hdfc.deposit(300)\n",
    "hdfc.withdraw(5000)\n",
    "hdfc.get_balance()"
   ]
  },
  {
   "cell_type": "code",
   "execution_count": null,
   "metadata": {},
   "outputs": [],
   "source": []
  }
 ],
 "metadata": {
  "kernelspec": {
   "display_name": "Python 3",
   "language": "python",
   "name": "python3"
  },
  "language_info": {
   "codemirror_mode": {
    "name": "ipython",
    "version": 3
   },
   "file_extension": ".py",
   "mimetype": "text/x-python",
   "name": "python",
   "nbconvert_exporter": "python",
   "pygments_lexer": "ipython3",
   "version": "3.6.4"
  }
 },
 "nbformat": 4,
 "nbformat_minor": 2
}
